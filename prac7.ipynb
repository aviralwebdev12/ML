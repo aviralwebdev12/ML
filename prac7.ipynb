{
 "cells": [
  {
   "cell_type": "code",
   "execution_count": 16,
   "metadata": {},
   "outputs": [
    {
     "name": "stdout",
     "output_type": "stream",
     "text": [
      "Coefficients (weights): [ 0.75302213  0.53510383 -0.00293825]\n",
      "Intercept: 7.61563402730901e-05\n",
      "R-squared (R2): 0.8972081523714193\n"
     ]
    }
   ],
   "source": [
    "import pandas as pd\n",
    "import numpy as np\n",
    "from sklearn.preprocessing import StandardScaler\n",
    "from sklearn.metrics import r2_score\n",
    "\n",
    "data = pd.read_csv('Advertising.csv')\n",
    "\n",
    "X = data[['TV', 'Radio', 'Newspaper']].values\n",
    "y = data['Sales'].values\n",
    "\n",
    "scaler = StandardScaler()\n",
    "X_normalized = scaler.fit_transform(X)\n",
    "y_normalized = scaler.fit_transform(y.reshape(-1, 1)).flatten()\n",
    "\n",
    "np.random.seed(0)\n",
    "weights = np.random.randn(4)\n",
    "\n",
    "def gradient_descent(X, y, weights, learning_rate, iterations):\n",
    "    m = len(y)\n",
    "    for i in range(iterations):\n",
    "        y_pred = np.dot(X, weights[1:]) + weights[0]\n",
    "        error = y_pred - y\n",
    "        weights[1:] -= (learning_rate / m) * np.dot(error, X)\n",
    "        weights[0] -= (learning_rate / m) * np.sum(error)\n",
    "    return weights\n",
    "\n",
    "learning_rate = 0.01\n",
    "iterations = 1000\n",
    "\n",
    "weights = gradient_descent(X_normalized, y_normalized, weights, learning_rate, iterations)\n",
    "\n",
    "y_pred = np.dot(X_normalized, weights[1:]) + weights[0]\n",
    "r2 = r2_score(y_normalized, y_pred)\n",
    "\n",
    "print(\"Coefficients (weights):\", weights[1:])\n",
    "print(\"Intercept:\", weights[0])\n",
    "print(\"R-squared (R2):\", r2)\n"
   ]
  }
 ],
 "metadata": {
  "kernelspec": {
   "display_name": "Python 3",
   "language": "python",
   "name": "python3"
  },
  "language_info": {
   "codemirror_mode": {
    "name": "ipython",
    "version": 3
   },
   "file_extension": ".py",
   "mimetype": "text/x-python",
   "name": "python",
   "nbconvert_exporter": "python",
   "pygments_lexer": "ipython3",
   "version": "3.11.5"
  }
 },
 "nbformat": 4,
 "nbformat_minor": 2
}
