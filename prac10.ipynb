{
 "cells": [
  {
   "cell_type": "code",
   "execution_count": 2,
   "metadata": {},
   "outputs": [],
   "source": [
    "import pandas as pd\n",
    "import numpy as np\n",
    "import matplotlib.pyplot as plt\n",
    "from sklearn.model_selection import train_test_split"
   ]
  },
  {
   "cell_type": "code",
   "execution_count": 9,
   "metadata": {},
   "outputs": [],
   "source": [
    "class LinearRegression:\n",
    "    def __init__(self, learning_rate=0.01, num_iterations=1000):\n",
    "        self.learning_rate = learning_rate\n",
    "        self.num_iterations = num_iterations\n",
    "        self.theta_one= None\n",
    "        self.theta_not = None\n",
    "\n",
    "    def fit(self, X : np.ndarray, y : np.ndarray, num_iterations=1000, learning_rate=0.01):\n",
    "        if (num_iterations != 1000):\n",
    "            self.num_iterations = num_iterations\n",
    "        if (learning_rate != 0.01):\n",
    "            self.learning_rate = learning_rate\n",
    "        \n",
    "        if type(X) != np.ndarray or type(y) != np.ndarray:\n",
    "            raise Exception('values must be of type ndarray')\n",
    "\n",
    "        self.theta_one = np.random.random()\n",
    "        self.theta_not = np.random.random()\n",
    "        n_samples = len(X)\n",
    "\n",
    "        for _ in range(self.num_iterations):\n",
    "            hypothesis = self.theta_not + np.dot(X, self.theta_one)\n",
    "            gradients = np.dot(X.T, (hypothesis - y)) / n_samples\n",
    "            self.theta_not -= self.learning_rate * np.mean((hypothesis - y))\n",
    "            self.theta_one -= self.learning_rate * gradients\n",
    "\n",
    "\n",
    "    def predict(self, X):\n",
    "        return self.theta_one + np.dot(X, self.theta_not)"
   ]
  },
  {
   "cell_type": "code",
   "execution_count": 6,
   "metadata": {},
   "outputs": [],
   "source": [
    "np.random.seed(4192)\n",
    "X = np.random.rand(100, 1)\n",
    "y = 2 * X + 1 + np.random.rand(100, 1)"
   ]
  },
  {
   "cell_type": "code",
   "execution_count": 12,
   "metadata": {},
   "outputs": [],
   "source": [
    "X_train, X_test, y_train, y_test = train_test_split(X, y, test_size=0.3, random_state=42)\n",
    "\n",
    "lr = LinearRegression()\n",
    "lr.fit(X_train, y_train, num_iterations=3000, learning_rate=0.01)\n",
    "y_pred = lr.predict(X_test)\n"
   ]
  },
  {
   "cell_type": "code",
   "execution_count": 13,
   "metadata": {},
   "outputs": [],
   "source": [
    "mse = np.mean((y_test - y_pred) ** 2)\n",
    "tse = np.sum(np.sum((np.mean(y_test) - y_test) ** 2))\n",
    "r2 = 1 - (mse / tse)"
   ]
  },
  {
   "cell_type": "code",
   "execution_count": 14,
   "metadata": {},
   "outputs": [
    {
     "name": "stdout",
     "output_type": "stream",
     "text": [
      "MSE:\t 0.12035553857476826\n",
      "R2 : \t0.9891520149064599\n"
     ]
    }
   ],
   "source": [
    "print(f\"MSE:\\t {mse}\")\n",
    "print(f\"R2 : \\t{r2}\")"
   ]
  },
  {
   "cell_type": "code",
   "execution_count": 15,
   "metadata": {},
   "outputs": [
    {
     "data": {
      "image/png": "[encoded data removed]",
      "text/plain": [
       "<Figure size 640x480 with 1 Axes>"
      ]
     },
     "metadata": {},
     "output_type": "display_data"
    }
   ],
   "source": [
    "plt.scatter(X_train, y_train)\n",
    "plt.plot(X_train, lr.theta_one + np.dot(X_train, lr.theta_not), color='r')\n",
    "plt.xlabel('X')\n",
    "plt.ylabel('y')\n",
    "plt.show()"
   ]
  }
 ],
 "metadata": {
  "kernelspec": {
   "display_name": "Python 3",
   "language": "python",
   "name": "python3"
  },
  "language_info": {
   "codemirror_mode": {
    "name": "ipython",
    "version": 3
   },
   "file_extension": ".py",
   "mimetype": "text/x-python",
   "name": "python",
   "nbconvert_exporter": "python",
   "pygments_lexer": "ipython3",
   "version": "3.10.0"
  }
 },
 "nbformat": 4,
 "nbformat_minor": 2
}
